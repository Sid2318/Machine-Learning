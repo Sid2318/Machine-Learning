{
 "cells": [
  {
   "cell_type": "code",
   "execution_count": null,
   "metadata": {
    "_cell_guid": "b1076dfc-b9ad-4769-8c92-a6c4dae69d19",
    "_uuid": "8f2839f25d086af736a60e9eeb907d3b93b6e0e5",
    "execution": {
     "iopub.execute_input": "2025-06-29T07:56:06.235207Z",
     "iopub.status.busy": "2025-06-29T07:56:06.234301Z",
     "iopub.status.idle": "2025-06-29T07:56:06.241737Z",
     "shell.execute_reply": "2025-06-29T07:56:06.240948Z",
     "shell.execute_reply.started": "2025-06-29T07:56:06.235177Z"
    },
    "trusted": true
   },
   "outputs": [
    {
     "name": "stdout",
     "output_type": "stream",
     "text": [
      "/kaggle/input/titanic/train.csv\n",
      "/kaggle/input/titanic/test.csv\n",
      "/kaggle/input/titanic/gender_submission.csv\n"
     ]
    }
   ],
   "source": [
    "# This Python 3 environment comes with many helpful analytics libraries installed\n",
    "# It is defined by the kaggle/python Docker image: https://github.com/kaggle/docker-python\n",
    "# For example, here's several helpful packages to load\n",
    "\n",
    "import numpy as np # linear algebra\n",
    "import pandas as pd # data processing, CSV file I/O (e.g. pd.read_csv)\n",
    "\n",
    "# Input data files are available in the read-only \"../input/\" directory\n",
    "# For example, running this (by clicking run or pressing Shift+Enter) will list all files under the input directory\n",
    "\n",
    "import os\n",
    "for dirname, _, filenames in os.walk('/kaggle/input'):\n",
    "    for filename in filenames:\n",
    "        print(os.path.join(dirname, filename))\n",
    "\n",
    "# You can write up to 20GB to the current directory (/kaggle/working/) that gets preserved as output when you create a version using \"Save & Run All\" \n",
    "# You can also write temporary files to /kaggle/temp/, but they won't be saved outside of the current session"
   ]
  },
  {
   "cell_type": "code",
   "execution_count": null,
   "metadata": {
    "execution": {
     "iopub.execute_input": "2025-06-29T07:56:06.243561Z",
     "iopub.status.busy": "2025-06-29T07:56:06.243266Z",
     "iopub.status.idle": "2025-06-29T07:56:06.288078Z",
     "shell.execute_reply": "2025-06-29T07:56:06.287291Z",
     "shell.execute_reply.started": "2025-06-29T07:56:06.243536Z"
    },
    "trusted": true
   },
   "outputs": [],
   "source": [
    "df_train = pd.read_csv('/kaggle/input/titanic/train.csv')\n",
    "df_test = pd.read_csv('/kaggle/input/titanic/test.csv')"
   ]
  },
  {
   "cell_type": "code",
   "execution_count": null,
   "metadata": {
    "execution": {
     "iopub.execute_input": "2025-06-29T07:56:06.289222Z",
     "iopub.status.busy": "2025-06-29T07:56:06.288918Z",
     "iopub.status.idle": "2025-06-29T07:56:06.312499Z",
     "shell.execute_reply": "2025-06-29T07:56:06.311601Z",
     "shell.execute_reply.started": "2025-06-29T07:56:06.289195Z"
    },
    "trusted": true
   },
   "outputs": [
    {
     "data": {
      "text/html": [
       "<div>\n",
       "<style scoped>\n",
       "    .dataframe tbody tr th:only-of-type {\n",
       "        vertical-align: middle;\n",
       "    }\n",
       "\n",
       "    .dataframe tbody tr th {\n",
       "        vertical-align: top;\n",
       "    }\n",
       "\n",
       "    .dataframe thead th {\n",
       "        text-align: right;\n",
       "    }\n",
       "</style>\n",
       "<table border=\"1\" class=\"dataframe\">\n",
       "  <thead>\n",
       "    <tr style=\"text-align: right;\">\n",
       "      <th></th>\n",
       "      <th>PassengerId</th>\n",
       "      <th>Survived</th>\n",
       "      <th>Pclass</th>\n",
       "      <th>Name</th>\n",
       "      <th>Sex</th>\n",
       "      <th>Age</th>\n",
       "      <th>SibSp</th>\n",
       "      <th>Parch</th>\n",
       "      <th>Ticket</th>\n",
       "      <th>Fare</th>\n",
       "      <th>Cabin</th>\n",
       "      <th>Embarked</th>\n",
       "    </tr>\n",
       "  </thead>\n",
       "  <tbody>\n",
       "    <tr>\n",
       "      <th>0</th>\n",
       "      <td>1</td>\n",
       "      <td>0</td>\n",
       "      <td>3</td>\n",
       "      <td>Braund, Mr. Owen Harris</td>\n",
       "      <td>male</td>\n",
       "      <td>22.0</td>\n",
       "      <td>1</td>\n",
       "      <td>0</td>\n",
       "      <td>A/5 21171</td>\n",
       "      <td>7.2500</td>\n",
       "      <td>NaN</td>\n",
       "      <td>S</td>\n",
       "    </tr>\n",
       "    <tr>\n",
       "      <th>1</th>\n",
       "      <td>2</td>\n",
       "      <td>1</td>\n",
       "      <td>1</td>\n",
       "      <td>Cumings, Mrs. John Bradley (Florence Briggs Th...</td>\n",
       "      <td>female</td>\n",
       "      <td>38.0</td>\n",
       "      <td>1</td>\n",
       "      <td>0</td>\n",
       "      <td>PC 17599</td>\n",
       "      <td>71.2833</td>\n",
       "      <td>C85</td>\n",
       "      <td>C</td>\n",
       "    </tr>\n",
       "    <tr>\n",
       "      <th>2</th>\n",
       "      <td>3</td>\n",
       "      <td>1</td>\n",
       "      <td>3</td>\n",
       "      <td>Heikkinen, Miss. Laina</td>\n",
       "      <td>female</td>\n",
       "      <td>26.0</td>\n",
       "      <td>0</td>\n",
       "      <td>0</td>\n",
       "      <td>STON/O2. 3101282</td>\n",
       "      <td>7.9250</td>\n",
       "      <td>NaN</td>\n",
       "      <td>S</td>\n",
       "    </tr>\n",
       "    <tr>\n",
       "      <th>3</th>\n",
       "      <td>4</td>\n",
       "      <td>1</td>\n",
       "      <td>1</td>\n",
       "      <td>Futrelle, Mrs. Jacques Heath (Lily May Peel)</td>\n",
       "      <td>female</td>\n",
       "      <td>35.0</td>\n",
       "      <td>1</td>\n",
       "      <td>0</td>\n",
       "      <td>113803</td>\n",
       "      <td>53.1000</td>\n",
       "      <td>C123</td>\n",
       "      <td>S</td>\n",
       "    </tr>\n",
       "    <tr>\n",
       "      <th>4</th>\n",
       "      <td>5</td>\n",
       "      <td>0</td>\n",
       "      <td>3</td>\n",
       "      <td>Allen, Mr. William Henry</td>\n",
       "      <td>male</td>\n",
       "      <td>35.0</td>\n",
       "      <td>0</td>\n",
       "      <td>0</td>\n",
       "      <td>373450</td>\n",
       "      <td>8.0500</td>\n",
       "      <td>NaN</td>\n",
       "      <td>S</td>\n",
       "    </tr>\n",
       "  </tbody>\n",
       "</table>\n",
       "</div>"
      ],
      "text/plain": [
       "   PassengerId  Survived  Pclass  \\\n",
       "0            1         0       3   \n",
       "1            2         1       1   \n",
       "2            3         1       3   \n",
       "3            4         1       1   \n",
       "4            5         0       3   \n",
       "\n",
       "                                                Name     Sex   Age  SibSp  \\\n",
       "0                            Braund, Mr. Owen Harris    male  22.0      1   \n",
       "1  Cumings, Mrs. John Bradley (Florence Briggs Th...  female  38.0      1   \n",
       "2                             Heikkinen, Miss. Laina  female  26.0      0   \n",
       "3       Futrelle, Mrs. Jacques Heath (Lily May Peel)  female  35.0      1   \n",
       "4                           Allen, Mr. William Henry    male  35.0      0   \n",
       "\n",
       "   Parch            Ticket     Fare Cabin Embarked  \n",
       "0      0         A/5 21171   7.2500   NaN        S  \n",
       "1      0          PC 17599  71.2833   C85        C  \n",
       "2      0  STON/O2. 3101282   7.9250   NaN        S  \n",
       "3      0            113803  53.1000  C123        S  \n",
       "4      0            373450   8.0500   NaN        S  "
      ]
     },
     "execution_count": 49,
     "metadata": {},
     "output_type": "execute_result"
    }
   ],
   "source": [
    "df_train.head()"
   ]
  },
  {
   "cell_type": "code",
   "execution_count": null,
   "metadata": {
    "execution": {
     "iopub.execute_input": "2025-06-29T07:56:06.313717Z",
     "iopub.status.busy": "2025-06-29T07:56:06.313421Z",
     "iopub.status.idle": "2025-06-29T07:56:06.333300Z",
     "shell.execute_reply": "2025-06-29T07:56:06.332455Z",
     "shell.execute_reply.started": "2025-06-29T07:56:06.313672Z"
    },
    "trusted": true
   },
   "outputs": [
    {
     "data": {
      "text/plain": [
       "PassengerId      0\n",
       "Pclass           0\n",
       "Name             0\n",
       "Sex              0\n",
       "Age             86\n",
       "SibSp            0\n",
       "Parch            0\n",
       "Ticket           0\n",
       "Fare             1\n",
       "Cabin          327\n",
       "Embarked         0\n",
       "dtype: int64"
      ]
     },
     "execution_count": 50,
     "metadata": {},
     "output_type": "execute_result"
    }
   ],
   "source": [
    "df_test.isnull().sum()"
   ]
  },
  {
   "cell_type": "code",
   "execution_count": null,
   "metadata": {
    "execution": {
     "iopub.execute_input": "2025-06-29T07:56:06.335595Z",
     "iopub.status.busy": "2025-06-29T07:56:06.335347Z",
     "iopub.status.idle": "2025-06-29T07:56:06.351859Z",
     "shell.execute_reply": "2025-06-29T07:56:06.350918Z",
     "shell.execute_reply.started": "2025-06-29T07:56:06.335575Z"
    },
    "trusted": true
   },
   "outputs": [
    {
     "data": {
      "text/plain": [
       "PassengerId      0\n",
       "Survived         0\n",
       "Pclass           0\n",
       "Name             0\n",
       "Sex              0\n",
       "Age            177\n",
       "SibSp            0\n",
       "Parch            0\n",
       "Ticket           0\n",
       "Fare             0\n",
       "Cabin          687\n",
       "Embarked         2\n",
       "dtype: int64"
      ]
     },
     "execution_count": 51,
     "metadata": {},
     "output_type": "execute_result"
    }
   ],
   "source": [
    "df_train.isnull().sum()"
   ]
  },
  {
   "cell_type": "code",
   "execution_count": null,
   "metadata": {
    "execution": {
     "iopub.execute_input": "2025-06-29T07:56:06.353060Z",
     "iopub.status.busy": "2025-06-29T07:56:06.352787Z",
     "iopub.status.idle": "2025-06-29T07:56:06.370205Z",
     "shell.execute_reply": "2025-06-29T07:56:06.369300Z",
     "shell.execute_reply.started": "2025-06-29T07:56:06.353038Z"
    },
    "trusted": true
   },
   "outputs": [],
   "source": [
    "df_train['Age'] = df_train['Age'].fillna(df_train['Age'].median())\n",
    "df_test['Age'] = df_test['Age'].fillna(df_test['Age'].median())"
   ]
  },
  {
   "cell_type": "code",
   "execution_count": null,
   "metadata": {
    "execution": {
     "iopub.execute_input": "2025-06-29T07:56:06.371384Z",
     "iopub.status.busy": "2025-06-29T07:56:06.371103Z",
     "iopub.status.idle": "2025-06-29T07:56:06.392484Z",
     "shell.execute_reply": "2025-06-29T07:56:06.391646Z",
     "shell.execute_reply.started": "2025-06-29T07:56:06.371360Z"
    },
    "trusted": true
   },
   "outputs": [
    {
     "data": {
      "text/plain": [
       "Embarked\n",
       "S    644\n",
       "C    168\n",
       "Q     77\n",
       "Name: count, dtype: int64"
      ]
     },
     "execution_count": 53,
     "metadata": {},
     "output_type": "execute_result"
    }
   ],
   "source": [
    "df_train['Embarked'].value_counts()"
   ]
  },
  {
   "cell_type": "code",
   "execution_count": null,
   "metadata": {
    "execution": {
     "iopub.execute_input": "2025-06-29T07:56:06.393512Z",
     "iopub.status.busy": "2025-06-29T07:56:06.393288Z",
     "iopub.status.idle": "2025-06-29T07:56:06.410994Z",
     "shell.execute_reply": "2025-06-29T07:56:06.409943Z",
     "shell.execute_reply.started": "2025-06-29T07:56:06.393495Z"
    },
    "trusted": true
   },
   "outputs": [],
   "source": [
    "df_train['Embarked'] = df_train['Embarked'].fillna(df_train['Embarked'].mode()[0])\n",
    "df_test['Fare'] = df_test['Fare'].fillna(df_test['Fare'].mean())"
   ]
  },
  {
   "cell_type": "code",
   "execution_count": null,
   "metadata": {
    "execution": {
     "iopub.execute_input": "2025-06-29T07:56:06.412451Z",
     "iopub.status.busy": "2025-06-29T07:56:06.412062Z",
     "iopub.status.idle": "2025-06-29T07:56:06.431162Z",
     "shell.execute_reply": "2025-06-29T07:56:06.430334Z",
     "shell.execute_reply.started": "2025-06-29T07:56:06.412424Z"
    },
    "trusted": true
   },
   "outputs": [],
   "source": [
    "df_train['Family'] = df_train['SibSp'] + df_train['Parch'] + 1\n",
    "df_test['Family'] = df_test['SibSp'] + df_train['Parch'] + 1"
   ]
  },
  {
   "cell_type": "code",
   "execution_count": null,
   "metadata": {
    "execution": {
     "iopub.execute_input": "2025-06-29T07:56:06.432304Z",
     "iopub.status.busy": "2025-06-29T07:56:06.432046Z",
     "iopub.status.idle": "2025-06-29T07:56:06.446551Z",
     "shell.execute_reply": "2025-06-29T07:56:06.445670Z",
     "shell.execute_reply.started": "2025-06-29T07:56:06.432284Z"
    },
    "trusted": true
   },
   "outputs": [],
   "source": [
    "final_df = pd.DataFrame(df_test['PassengerId'])"
   ]
  },
  {
   "cell_type": "code",
   "execution_count": null,
   "metadata": {
    "execution": {
     "iopub.execute_input": "2025-06-29T07:56:06.449385Z",
     "iopub.status.busy": "2025-06-29T07:56:06.449122Z",
     "iopub.status.idle": "2025-06-29T07:56:06.464638Z",
     "shell.execute_reply": "2025-06-29T07:56:06.463738Z",
     "shell.execute_reply.started": "2025-06-29T07:56:06.449366Z"
    },
    "trusted": true
   },
   "outputs": [],
   "source": [
    "df_train = df_train.drop(['Cabin','PassengerId','Name','Ticket','Parch','SibSp'],axis = 1)\n",
    "df_test = df_test.drop(['Cabin','PassengerId','Name','Ticket','Parch','SibSp'],axis = 1)"
   ]
  },
  {
   "cell_type": "code",
   "execution_count": null,
   "metadata": {
    "execution": {
     "iopub.execute_input": "2025-06-29T07:56:06.465834Z",
     "iopub.status.busy": "2025-06-29T07:56:06.465563Z",
     "iopub.status.idle": "2025-06-29T07:56:06.483343Z",
     "shell.execute_reply": "2025-06-29T07:56:06.482519Z",
     "shell.execute_reply.started": "2025-06-29T07:56:06.465815Z"
    },
    "trusted": true
   },
   "outputs": [
    {
     "data": {
      "text/html": [
       "<div>\n",
       "<style scoped>\n",
       "    .dataframe tbody tr th:only-of-type {\n",
       "        vertical-align: middle;\n",
       "    }\n",
       "\n",
       "    .dataframe tbody tr th {\n",
       "        vertical-align: top;\n",
       "    }\n",
       "\n",
       "    .dataframe thead th {\n",
       "        text-align: right;\n",
       "    }\n",
       "</style>\n",
       "<table border=\"1\" class=\"dataframe\">\n",
       "  <thead>\n",
       "    <tr style=\"text-align: right;\">\n",
       "      <th></th>\n",
       "      <th>PassengerId</th>\n",
       "    </tr>\n",
       "  </thead>\n",
       "  <tbody>\n",
       "    <tr>\n",
       "      <th>0</th>\n",
       "      <td>892</td>\n",
       "    </tr>\n",
       "    <tr>\n",
       "      <th>1</th>\n",
       "      <td>893</td>\n",
       "    </tr>\n",
       "    <tr>\n",
       "      <th>2</th>\n",
       "      <td>894</td>\n",
       "    </tr>\n",
       "    <tr>\n",
       "      <th>3</th>\n",
       "      <td>895</td>\n",
       "    </tr>\n",
       "    <tr>\n",
       "      <th>4</th>\n",
       "      <td>896</td>\n",
       "    </tr>\n",
       "  </tbody>\n",
       "</table>\n",
       "</div>"
      ],
      "text/plain": [
       "   PassengerId\n",
       "0          892\n",
       "1          893\n",
       "2          894\n",
       "3          895\n",
       "4          896"
      ]
     },
     "execution_count": 58,
     "metadata": {},
     "output_type": "execute_result"
    }
   ],
   "source": [
    "final_df.head()"
   ]
  },
  {
   "cell_type": "code",
   "execution_count": null,
   "metadata": {
    "execution": {
     "iopub.execute_input": "2025-06-29T07:56:06.484530Z",
     "iopub.status.busy": "2025-06-29T07:56:06.484230Z",
     "iopub.status.idle": "2025-06-29T07:56:06.503475Z",
     "shell.execute_reply": "2025-06-29T07:56:06.502747Z",
     "shell.execute_reply.started": "2025-06-29T07:56:06.484503Z"
    },
    "trusted": true
   },
   "outputs": [
    {
     "data": {
      "text/plain": [
       "Pclass      0\n",
       "Sex         0\n",
       "Age         0\n",
       "Fare        0\n",
       "Embarked    0\n",
       "Family      0\n",
       "dtype: int64"
      ]
     },
     "execution_count": 59,
     "metadata": {},
     "output_type": "execute_result"
    }
   ],
   "source": [
    "df_test.isnull().sum()"
   ]
  },
  {
   "cell_type": "code",
   "execution_count": null,
   "metadata": {
    "execution": {
     "iopub.execute_input": "2025-06-29T07:56:06.504624Z",
     "iopub.status.busy": "2025-06-29T07:56:06.504376Z",
     "iopub.status.idle": "2025-06-29T07:56:06.522257Z",
     "shell.execute_reply": "2025-06-29T07:56:06.521591Z",
     "shell.execute_reply.started": "2025-06-29T07:56:06.504600Z"
    },
    "trusted": true
   },
   "outputs": [
    {
     "data": {
      "text/plain": [
       "Survived    0\n",
       "Pclass      0\n",
       "Sex         0\n",
       "Age         0\n",
       "Fare        0\n",
       "Embarked    0\n",
       "Family      0\n",
       "dtype: int64"
      ]
     },
     "execution_count": 60,
     "metadata": {},
     "output_type": "execute_result"
    }
   ],
   "source": [
    "df_train.isnull().sum()"
   ]
  },
  {
   "cell_type": "code",
   "execution_count": null,
   "metadata": {
    "execution": {
     "iopub.execute_input": "2025-06-29T07:56:06.523540Z",
     "iopub.status.busy": "2025-06-29T07:56:06.523215Z",
     "iopub.status.idle": "2025-06-29T07:56:06.545261Z",
     "shell.execute_reply": "2025-06-29T07:56:06.544340Z",
     "shell.execute_reply.started": "2025-06-29T07:56:06.523512Z"
    },
    "trusted": true
   },
   "outputs": [
    {
     "data": {
      "text/html": [
       "<div>\n",
       "<style scoped>\n",
       "    .dataframe tbody tr th:only-of-type {\n",
       "        vertical-align: middle;\n",
       "    }\n",
       "\n",
       "    .dataframe tbody tr th {\n",
       "        vertical-align: top;\n",
       "    }\n",
       "\n",
       "    .dataframe thead th {\n",
       "        text-align: right;\n",
       "    }\n",
       "</style>\n",
       "<table border=\"1\" class=\"dataframe\">\n",
       "  <thead>\n",
       "    <tr style=\"text-align: right;\">\n",
       "      <th></th>\n",
       "      <th>Survived</th>\n",
       "      <th>Pclass</th>\n",
       "      <th>Sex</th>\n",
       "      <th>Age</th>\n",
       "      <th>Fare</th>\n",
       "      <th>Embarked</th>\n",
       "      <th>Family</th>\n",
       "    </tr>\n",
       "  </thead>\n",
       "  <tbody>\n",
       "    <tr>\n",
       "      <th>0</th>\n",
       "      <td>0</td>\n",
       "      <td>3</td>\n",
       "      <td>male</td>\n",
       "      <td>22.0</td>\n",
       "      <td>7.2500</td>\n",
       "      <td>S</td>\n",
       "      <td>2</td>\n",
       "    </tr>\n",
       "    <tr>\n",
       "      <th>1</th>\n",
       "      <td>1</td>\n",
       "      <td>1</td>\n",
       "      <td>female</td>\n",
       "      <td>38.0</td>\n",
       "      <td>71.2833</td>\n",
       "      <td>C</td>\n",
       "      <td>2</td>\n",
       "    </tr>\n",
       "    <tr>\n",
       "      <th>2</th>\n",
       "      <td>1</td>\n",
       "      <td>3</td>\n",
       "      <td>female</td>\n",
       "      <td>26.0</td>\n",
       "      <td>7.9250</td>\n",
       "      <td>S</td>\n",
       "      <td>1</td>\n",
       "    </tr>\n",
       "    <tr>\n",
       "      <th>3</th>\n",
       "      <td>1</td>\n",
       "      <td>1</td>\n",
       "      <td>female</td>\n",
       "      <td>35.0</td>\n",
       "      <td>53.1000</td>\n",
       "      <td>S</td>\n",
       "      <td>2</td>\n",
       "    </tr>\n",
       "    <tr>\n",
       "      <th>4</th>\n",
       "      <td>0</td>\n",
       "      <td>3</td>\n",
       "      <td>male</td>\n",
       "      <td>35.0</td>\n",
       "      <td>8.0500</td>\n",
       "      <td>S</td>\n",
       "      <td>1</td>\n",
       "    </tr>\n",
       "  </tbody>\n",
       "</table>\n",
       "</div>"
      ],
      "text/plain": [
       "   Survived  Pclass     Sex   Age     Fare Embarked  Family\n",
       "0         0       3    male  22.0   7.2500        S       2\n",
       "1         1       1  female  38.0  71.2833        C       2\n",
       "2         1       3  female  26.0   7.9250        S       1\n",
       "3         1       1  female  35.0  53.1000        S       2\n",
       "4         0       3    male  35.0   8.0500        S       1"
      ]
     },
     "execution_count": 61,
     "metadata": {},
     "output_type": "execute_result"
    }
   ],
   "source": [
    "df_train.head()"
   ]
  },
  {
   "cell_type": "code",
   "execution_count": null,
   "metadata": {
    "execution": {
     "iopub.execute_input": "2025-06-29T07:56:06.546456Z",
     "iopub.status.busy": "2025-06-29T07:56:06.546157Z",
     "iopub.status.idle": "2025-06-29T07:56:06.563110Z",
     "shell.execute_reply": "2025-06-29T07:56:06.562243Z",
     "shell.execute_reply.started": "2025-06-29T07:56:06.546435Z"
    },
    "trusted": true
   },
   "outputs": [],
   "source": [
    "# Label Encoding\n",
    "from sklearn.preprocessing import LabelEncoder\n",
    "\n",
    "le = LabelEncoder()\n",
    "df_train['Sex'] = le.fit_transform(df_train['Sex'])\n",
    "df_train['Embarked'] = le.fit_transform(df_train['Embarked'])\n",
    "\n",
    "df_test['Sex'] = le.fit_transform(df_test['Sex'])\n",
    "df_test['Embarked'] = le.fit_transform(df_test['Embarked'])"
   ]
  },
  {
   "cell_type": "code",
   "execution_count": null,
   "metadata": {
    "execution": {
     "iopub.execute_input": "2025-06-29T07:56:06.564331Z",
     "iopub.status.busy": "2025-06-29T07:56:06.564095Z",
     "iopub.status.idle": "2025-06-29T07:56:06.584385Z",
     "shell.execute_reply": "2025-06-29T07:56:06.583519Z",
     "shell.execute_reply.started": "2025-06-29T07:56:06.564313Z"
    },
    "trusted": true
   },
   "outputs": [
    {
     "data": {
      "text/html": [
       "<div>\n",
       "<style scoped>\n",
       "    .dataframe tbody tr th:only-of-type {\n",
       "        vertical-align: middle;\n",
       "    }\n",
       "\n",
       "    .dataframe tbody tr th {\n",
       "        vertical-align: top;\n",
       "    }\n",
       "\n",
       "    .dataframe thead th {\n",
       "        text-align: right;\n",
       "    }\n",
       "</style>\n",
       "<table border=\"1\" class=\"dataframe\">\n",
       "  <thead>\n",
       "    <tr style=\"text-align: right;\">\n",
       "      <th></th>\n",
       "      <th>Survived</th>\n",
       "      <th>Pclass</th>\n",
       "      <th>Sex</th>\n",
       "      <th>Age</th>\n",
       "      <th>Fare</th>\n",
       "      <th>Embarked</th>\n",
       "      <th>Family</th>\n",
       "    </tr>\n",
       "  </thead>\n",
       "  <tbody>\n",
       "    <tr>\n",
       "      <th>0</th>\n",
       "      <td>0</td>\n",
       "      <td>3</td>\n",
       "      <td>1</td>\n",
       "      <td>22.0</td>\n",
       "      <td>7.2500</td>\n",
       "      <td>2</td>\n",
       "      <td>2</td>\n",
       "    </tr>\n",
       "    <tr>\n",
       "      <th>1</th>\n",
       "      <td>1</td>\n",
       "      <td>1</td>\n",
       "      <td>0</td>\n",
       "      <td>38.0</td>\n",
       "      <td>71.2833</td>\n",
       "      <td>0</td>\n",
       "      <td>2</td>\n",
       "    </tr>\n",
       "    <tr>\n",
       "      <th>2</th>\n",
       "      <td>1</td>\n",
       "      <td>3</td>\n",
       "      <td>0</td>\n",
       "      <td>26.0</td>\n",
       "      <td>7.9250</td>\n",
       "      <td>2</td>\n",
       "      <td>1</td>\n",
       "    </tr>\n",
       "    <tr>\n",
       "      <th>3</th>\n",
       "      <td>1</td>\n",
       "      <td>1</td>\n",
       "      <td>0</td>\n",
       "      <td>35.0</td>\n",
       "      <td>53.1000</td>\n",
       "      <td>2</td>\n",
       "      <td>2</td>\n",
       "    </tr>\n",
       "    <tr>\n",
       "      <th>4</th>\n",
       "      <td>0</td>\n",
       "      <td>3</td>\n",
       "      <td>1</td>\n",
       "      <td>35.0</td>\n",
       "      <td>8.0500</td>\n",
       "      <td>2</td>\n",
       "      <td>1</td>\n",
       "    </tr>\n",
       "  </tbody>\n",
       "</table>\n",
       "</div>"
      ],
      "text/plain": [
       "   Survived  Pclass  Sex   Age     Fare  Embarked  Family\n",
       "0         0       3    1  22.0   7.2500         2       2\n",
       "1         1       1    0  38.0  71.2833         0       2\n",
       "2         1       3    0  26.0   7.9250         2       1\n",
       "3         1       1    0  35.0  53.1000         2       2\n",
       "4         0       3    1  35.0   8.0500         2       1"
      ]
     },
     "execution_count": 63,
     "metadata": {},
     "output_type": "execute_result"
    }
   ],
   "source": [
    "df_train.head()"
   ]
  },
  {
   "cell_type": "code",
   "execution_count": null,
   "metadata": {
    "execution": {
     "iopub.execute_input": "2025-06-29T07:56:06.585419Z",
     "iopub.status.busy": "2025-06-29T07:56:06.585186Z",
     "iopub.status.idle": "2025-06-29T07:56:06.617523Z",
     "shell.execute_reply": "2025-06-29T07:56:06.616607Z",
     "shell.execute_reply.started": "2025-06-29T07:56:06.585402Z"
    },
    "trusted": true
   },
   "outputs": [
    {
     "data": {
      "text/html": [
       "<div>\n",
       "<style scoped>\n",
       "    .dataframe tbody tr th:only-of-type {\n",
       "        vertical-align: middle;\n",
       "    }\n",
       "\n",
       "    .dataframe tbody tr th {\n",
       "        vertical-align: top;\n",
       "    }\n",
       "\n",
       "    .dataframe thead th {\n",
       "        text-align: right;\n",
       "    }\n",
       "</style>\n",
       "<table border=\"1\" class=\"dataframe\">\n",
       "  <thead>\n",
       "    <tr style=\"text-align: right;\">\n",
       "      <th></th>\n",
       "      <th>Survived</th>\n",
       "      <th>Pclass</th>\n",
       "      <th>Sex</th>\n",
       "      <th>Age</th>\n",
       "      <th>Fare</th>\n",
       "      <th>Embarked</th>\n",
       "      <th>Family</th>\n",
       "    </tr>\n",
       "  </thead>\n",
       "  <tbody>\n",
       "    <tr>\n",
       "      <th>count</th>\n",
       "      <td>891.000000</td>\n",
       "      <td>891.000000</td>\n",
       "      <td>891.000000</td>\n",
       "      <td>891.000000</td>\n",
       "      <td>891.000000</td>\n",
       "      <td>891.000000</td>\n",
       "      <td>891.000000</td>\n",
       "    </tr>\n",
       "    <tr>\n",
       "      <th>mean</th>\n",
       "      <td>0.383838</td>\n",
       "      <td>2.308642</td>\n",
       "      <td>0.647587</td>\n",
       "      <td>29.361582</td>\n",
       "      <td>32.204208</td>\n",
       "      <td>1.536476</td>\n",
       "      <td>1.904602</td>\n",
       "    </tr>\n",
       "    <tr>\n",
       "      <th>std</th>\n",
       "      <td>0.486592</td>\n",
       "      <td>0.836071</td>\n",
       "      <td>0.477990</td>\n",
       "      <td>13.019697</td>\n",
       "      <td>49.693429</td>\n",
       "      <td>0.791503</td>\n",
       "      <td>1.613459</td>\n",
       "    </tr>\n",
       "    <tr>\n",
       "      <th>min</th>\n",
       "      <td>0.000000</td>\n",
       "      <td>1.000000</td>\n",
       "      <td>0.000000</td>\n",
       "      <td>0.420000</td>\n",
       "      <td>0.000000</td>\n",
       "      <td>0.000000</td>\n",
       "      <td>1.000000</td>\n",
       "    </tr>\n",
       "    <tr>\n",
       "      <th>25%</th>\n",
       "      <td>0.000000</td>\n",
       "      <td>2.000000</td>\n",
       "      <td>0.000000</td>\n",
       "      <td>22.000000</td>\n",
       "      <td>7.910400</td>\n",
       "      <td>1.000000</td>\n",
       "      <td>1.000000</td>\n",
       "    </tr>\n",
       "    <tr>\n",
       "      <th>50%</th>\n",
       "      <td>0.000000</td>\n",
       "      <td>3.000000</td>\n",
       "      <td>1.000000</td>\n",
       "      <td>28.000000</td>\n",
       "      <td>14.454200</td>\n",
       "      <td>2.000000</td>\n",
       "      <td>1.000000</td>\n",
       "    </tr>\n",
       "    <tr>\n",
       "      <th>75%</th>\n",
       "      <td>1.000000</td>\n",
       "      <td>3.000000</td>\n",
       "      <td>1.000000</td>\n",
       "      <td>35.000000</td>\n",
       "      <td>31.000000</td>\n",
       "      <td>2.000000</td>\n",
       "      <td>2.000000</td>\n",
       "    </tr>\n",
       "    <tr>\n",
       "      <th>max</th>\n",
       "      <td>1.000000</td>\n",
       "      <td>3.000000</td>\n",
       "      <td>1.000000</td>\n",
       "      <td>80.000000</td>\n",
       "      <td>512.329200</td>\n",
       "      <td>2.000000</td>\n",
       "      <td>11.000000</td>\n",
       "    </tr>\n",
       "  </tbody>\n",
       "</table>\n",
       "</div>"
      ],
      "text/plain": [
       "         Survived      Pclass         Sex         Age        Fare    Embarked  \\\n",
       "count  891.000000  891.000000  891.000000  891.000000  891.000000  891.000000   \n",
       "mean     0.383838    2.308642    0.647587   29.361582   32.204208    1.536476   \n",
       "std      0.486592    0.836071    0.477990   13.019697   49.693429    0.791503   \n",
       "min      0.000000    1.000000    0.000000    0.420000    0.000000    0.000000   \n",
       "25%      0.000000    2.000000    0.000000   22.000000    7.910400    1.000000   \n",
       "50%      0.000000    3.000000    1.000000   28.000000   14.454200    2.000000   \n",
       "75%      1.000000    3.000000    1.000000   35.000000   31.000000    2.000000   \n",
       "max      1.000000    3.000000    1.000000   80.000000  512.329200    2.000000   \n",
       "\n",
       "           Family  \n",
       "count  891.000000  \n",
       "mean     1.904602  \n",
       "std      1.613459  \n",
       "min      1.000000  \n",
       "25%      1.000000  \n",
       "50%      1.000000  \n",
       "75%      2.000000  \n",
       "max     11.000000  "
      ]
     },
     "execution_count": 64,
     "metadata": {},
     "output_type": "execute_result"
    }
   ],
   "source": [
    "df_train.describe()"
   ]
  },
  {
   "cell_type": "code",
   "execution_count": null,
   "metadata": {
    "execution": {
     "iopub.execute_input": "2025-06-29T07:56:06.618821Z",
     "iopub.status.busy": "2025-06-29T07:56:06.618489Z",
     "iopub.status.idle": "2025-06-29T07:56:06.624102Z",
     "shell.execute_reply": "2025-06-29T07:56:06.623187Z",
     "shell.execute_reply.started": "2025-06-29T07:56:06.618793Z"
    },
    "trusted": true
   },
   "outputs": [],
   "source": [
    "X = df_train.drop(['Survived'],axis=1)\n",
    "y = df_train['Survived']"
   ]
  },
  {
   "cell_type": "code",
   "execution_count": null,
   "metadata": {
    "execution": {
     "iopub.execute_input": "2025-06-29T07:56:06.625551Z",
     "iopub.status.busy": "2025-06-29T07:56:06.624847Z",
     "iopub.status.idle": "2025-06-29T07:56:06.646652Z",
     "shell.execute_reply": "2025-06-29T07:56:06.645839Z",
     "shell.execute_reply.started": "2025-06-29T07:56:06.625518Z"
    },
    "trusted": true
   },
   "outputs": [],
   "source": [
    "#Standardize the data\n",
    "from sklearn.preprocessing import StandardScaler\n",
    "\n",
    "scaler = StandardScaler()\n",
    "X = scaler.fit_transform(X)\n",
    "\n",
    "df_test = scaler.fit_transform(df_test)"
   ]
  },
  {
   "cell_type": "code",
   "execution_count": null,
   "metadata": {
    "execution": {
     "iopub.execute_input": "2025-06-29T07:56:06.648012Z",
     "iopub.status.busy": "2025-06-29T07:56:06.647583Z",
     "iopub.status.idle": "2025-06-29T07:56:06.654360Z",
     "shell.execute_reply": "2025-06-29T07:56:06.653533Z",
     "shell.execute_reply.started": "2025-06-29T07:56:06.647985Z"
    },
    "trusted": true
   },
   "outputs": [
    {
     "data": {
      "text/plain": [
       "array([[ 0.82737724,  0.73769513, -0.56573646, -0.50244517,  0.58595414,\n",
       "         0.05915988],\n",
       "       [-1.56610693, -1.35557354,  0.66386103,  0.78684529, -1.9423032 ,\n",
       "         0.05915988],\n",
       "       [ 0.82737724, -1.35557354, -0.25833709, -0.48885426,  0.58595414,\n",
       "        -0.56097483],\n",
       "       ...,\n",
       "       [ 0.82737724, -1.35557354, -0.1046374 , -0.17626324,  0.58595414,\n",
       "         1.29942929],\n",
       "       [-1.56610693,  0.73769513, -0.25833709, -0.04438104, -1.9423032 ,\n",
       "        -0.56097483],\n",
       "       [ 0.82737724,  0.73769513,  0.20276197, -0.49237783, -0.67817453,\n",
       "        -0.56097483]])"
      ]
     },
     "execution_count": 67,
     "metadata": {},
     "output_type": "execute_result"
    }
   ],
   "source": [
    "X"
   ]
  },
  {
   "cell_type": "code",
   "execution_count": null,
   "metadata": {
    "execution": {
     "iopub.execute_input": "2025-06-29T07:56:06.655534Z",
     "iopub.status.busy": "2025-06-29T07:56:06.655240Z",
     "iopub.status.idle": "2025-06-29T07:56:06.671914Z",
     "shell.execute_reply": "2025-06-29T07:56:06.670958Z",
     "shell.execute_reply.started": "2025-06-29T07:56:06.655506Z"
    },
    "trusted": true
   },
   "outputs": [
    {
     "data": {
      "text/plain": [
       "Index(['Survived', 'Pclass', 'Sex', 'Age', 'Fare', 'Embarked', 'Family'], dtype='object')"
      ]
     },
     "execution_count": 68,
     "metadata": {},
     "output_type": "execute_result"
    }
   ],
   "source": [
    "df_train.columns"
   ]
  },
  {
   "cell_type": "code",
   "execution_count": null,
   "metadata": {
    "execution": {
     "iopub.execute_input": "2025-06-29T07:56:06.673423Z",
     "iopub.status.busy": "2025-06-29T07:56:06.672915Z",
     "iopub.status.idle": "2025-06-29T07:56:07.307530Z",
     "shell.execute_reply": "2025-06-29T07:56:07.306631Z",
     "shell.execute_reply.started": "2025-06-29T07:56:06.673393Z"
    },
    "trusted": true
   },
   "outputs": [
    {
     "name": "stdout",
     "output_type": "stream",
     "text": [
      "Pclass\n"
     ]
    },
    {
     "data": {
      "image/png": "[encoded data removed]",
      "text/plain": [
       "<Figure size 640x480 with 1 Axes>"
      ]
     },
     "metadata": {},
     "output_type": "display_data"
    },
    {
     "name": "stdout",
     "output_type": "stream",
     "text": [
      "Sex\n"
     ]
    },
    {
     "data": {
      "image/png": "[encoded data removed]",
      "text/plain": [
       "<Figure size 640x480 with 1 Axes>"
      ]
     },
     "metadata": {},
     "output_type": "display_data"
    },
    {
     "name": "stdout",
     "output_type": "stream",
     "text": [
      "Embarked\n"
     ]
    },
    {
     "data": {
      "image/png": "[encoded data removed]",
      "text/plain": [
       "<Figure size 640x480 with 1 Axes>"
      ]
     },
     "metadata": {},
     "output_type": "display_data"
    },
    {
     "name": "stdout",
     "output_type": "stream",
     "text": [
      "Family\n"
     ]
    },
    {
     "data": {
      "image/png": "[encoded data removed]",
      "text/plain": [
       "<Figure size 640x480 with 1 Axes>"
      ]
     },
     "metadata": {},
     "output_type": "display_data"
    }
   ],
   "source": [
    "import seaborn as sns\n",
    "import matplotlib.pyplot as plt\n",
    "\n",
    "col = ['Pclass', 'Sex', 'Embarked', 'Family']\n",
    "for i in col:\n",
    "    print(i)\n",
    "    sns.countplot(x=i,data = df_train,hue='Survived')\n",
    "    plt.show()"
   ]
  },
  {
   "cell_type": "code",
   "execution_count": null,
   "metadata": {
    "execution": {
     "iopub.execute_input": "2025-06-29T07:56:07.311739Z",
     "iopub.status.busy": "2025-06-29T07:56:07.311431Z",
     "iopub.status.idle": "2025-06-29T07:56:07.317918Z",
     "shell.execute_reply": "2025-06-29T07:56:07.316922Z",
     "shell.execute_reply.started": "2025-06-29T07:56:07.311712Z"
    },
    "trusted": true
   },
   "outputs": [],
   "source": [
    "from sklearn.model_selection import train_test_split\n",
    "\n",
    "X_train,X_test,y_train,y_test = train_test_split(X,y,train_size=0.2,random_state=42)"
   ]
  },
  {
   "cell_type": "code",
   "execution_count": null,
   "metadata": {
    "execution": {
     "iopub.execute_input": "2025-06-29T07:56:07.319483Z",
     "iopub.status.busy": "2025-06-29T07:56:07.318820Z",
     "iopub.status.idle": "2025-06-29T07:56:07.335261Z",
     "shell.execute_reply": "2025-06-29T07:56:07.334291Z",
     "shell.execute_reply.started": "2025-06-29T07:56:07.319456Z"
    },
    "trusted": true
   },
   "outputs": [],
   "source": [
    "from sklearn.linear_model import LogisticRegression\n",
    "from sklearn.ensemble import RandomForestClassifier, GradientBoostingClassifier\n",
    "import xgboost as xgb\n",
    "from sklearn.svm import SVC\n",
    "from sklearn.metrics import accuracy_score\n",
    "from sklearn.model_selection import cross_val_score"
   ]
  },
  {
   "cell_type": "code",
   "execution_count": null,
   "metadata": {
    "execution": {
     "iopub.execute_input": "2025-06-29T07:56:07.336516Z",
     "iopub.status.busy": "2025-06-29T07:56:07.336247Z",
     "iopub.status.idle": "2025-06-29T07:56:07.358993Z",
     "shell.execute_reply": "2025-06-29T07:56:07.358084Z",
     "shell.execute_reply.started": "2025-06-29T07:56:07.336488Z"
    },
    "trusted": true
   },
   "outputs": [],
   "source": [
    "def objective(trial):\n",
    "    classifier_name = trial.suggest_categorical(\n",
    "        'classifier',\n",
    "        ['SVC', 'LogisticRegression', 'RandomForestClassifier', 'GradientBoostingClassifier', 'xgboost']\n",
    "    )\n",
    "\n",
    "    if classifier_name == 'SVC':\n",
    "        svc_c = trial.suggest_float('svc_c', 1e-10, 1e10, log = True)\n",
    "        kernel = trial.suggest_categorical('kernel', ['rbf', 'linear', 'poly', 'sigmoid'])\n",
    "        gamma = trial.suggest_categorical('gamma', ['scale', 'auto'] + [1/X_train.shape[1]])\n",
    "\n",
    "        model = SVC(C=svc_c, kernel=kernel, gamma=gamma, random_state=42)\n",
    "\n",
    "    elif classifier_name == 'RandomForestClassifier':\n",
    "        model = RandomForestClassifier(\n",
    "            n_estimators = trial.suggest_int('n_estimators',50,300),\n",
    "            max_depth = trial.suggest_int('max_depth',3,20),\n",
    "            min_samples_split = trial.suggest_int('min_samples_split',2,10),\n",
    "            min_samples_leaf = trial.suggest_int('min_samples_leaf', 1,10),\n",
    "            bootstrap = trial.suggest_categorical('bootstrap', [True,False]),\n",
    "            random_state = 42\n",
    "        )\n",
    "        \n",
    "    elif classifier_name == 'GradientBoostingClassifier':\n",
    "        model = GradientBoostingClassifier(\n",
    "            n_estimators = trial.suggest_int('n_estimators',50,300),\n",
    "            learning_rate = trial.suggest_float('learning_rate',0.001, 1, log=True),\n",
    "            max_depth = trial.suggest_int('max_depth',3,20),\n",
    "            min_samples_split = trial.suggest_int('min_samples_split',2,10),\n",
    "            min_samples_leaf = trial.suggest_int('min_samples_leaf', 1,10),\n",
    "            random_state = 42\n",
    "        )\n",
    "\n",
    "    elif classifier_name == 'LogisticRegression':\n",
    "        C = trial.suggest_float('C',0.01,1.0)\n",
    "        solver = trial.suggest_categorical('solver', ['liblinear', 'lbfgs', 'sag', 'saga'])\n",
    "        penalty = trial.suggest_categorical('penalty', ['l1','l2'])\n",
    "\n",
    "        valid_combos = {\n",
    "            'liblinear': ['l1','l2'],\n",
    "            'lbfgs': ['l2'],\n",
    "            'sag' : ['l2'],\n",
    "            'saga' : ['l1','l2']\n",
    "        }\n",
    "        if penalty not in valid_combos.get(solver,[]):\n",
    "            raise optuna.exceptions.TrialPruned()\n",
    "\n",
    "        model = LogisticRegression(\n",
    "            C=C,\n",
    "            solver = solver,\n",
    "            penalty = penalty,\n",
    "            random_state = 42,\n",
    "            max_iter = 1000\n",
    "        )\n",
    "\n",
    "    elif classifier_name == 'xgboost' :\n",
    "        model = xgb.XGBClassifier(\n",
    "            n_estimators = trial.suggest_int('n_estimators',50,300),\n",
    "            learning_rate = trial.suggest_float('learning_rate',0.001, 1, log=True),\n",
    "            max_depth = trial.suggest_int('max_depth',3,20),\n",
    "            min_child_weight= trial.suggest_int('min_child_weight',1,10),\n",
    "            use_label_encoder=False,\n",
    "            eval_metric='logloss',\n",
    "            random_state = 42\n",
    "        )\n",
    "\n",
    "    else:\n",
    "        raise ValueError(\"Unsupported classifier\")\n",
    "\n",
    "    score = cross_val_score(model,X_train,y_train,cv=3,scoring='accuracy').mean()\n",
    "    return score;\n"
   ]
  },
  {
   "cell_type": "code",
   "execution_count": null,
   "metadata": {
    "execution": {
     "iopub.execute_input": "2025-06-29T07:56:07.360145Z",
     "iopub.status.busy": "2025-06-29T07:56:07.359896Z",
     "iopub.status.idle": "2025-06-29T07:58:08.991609Z",
     "shell.execute_reply": "2025-06-29T07:58:08.990808Z",
     "shell.execute_reply.started": "2025-06-29T07:56:07.360126Z"
    },
    "trusted": true
   },
   "outputs": [
    {
     "name": "stderr",
     "output_type": "stream",
     "text": [
      "[I 2025-06-29 07:56:07,379] A new study created in memory with name: no-name-78b79821-a65d-4ac2-9137-6c719911a179\n",
      "[I 2025-06-29 07:56:07,397] Trial 0 finished with value: 0.6348399246704332 and parameters: {'classifier': 'SVC', 'svc_c': 1.1833167343274257e-09, 'kernel': 'sigmoid', 'gamma': 0.16666666666666666}. Best is trial 0 with value: 0.6348399246704332.\n",
      "[I 2025-06-29 07:56:07,409] Trial 1 finished with value: 0.8089453860640301 and parameters: {'classifier': 'SVC', 'svc_c': 0.09902916769391441, 'kernel': 'linear', 'gamma': 0.16666666666666666}. Best is trial 1 with value: 0.8089453860640301.\n",
      "[I 2025-06-29 07:56:07,975] Trial 2 finished with value: 0.8034839924670433 and parameters: {'classifier': 'GradientBoostingClassifier', 'n_estimators': 254, 'learning_rate': 0.02570340609740373, 'max_depth': 14, 'min_samples_split': 7, 'min_samples_leaf': 9}. Best is trial 1 with value: 0.8089453860640301.\n",
      "[I 2025-06-29 07:56:07,987] Trial 3 finished with value: 0.7638418079096047 and parameters: {'classifier': 'SVC', 'svc_c': 26.715955037728612, 'kernel': 'rbf', 'gamma': 'auto'}. Best is trial 1 with value: 0.8089453860640301.\n",
      "[I 2025-06-29 07:56:08,265] Trial 4 finished with value: 0.7865348399246704 and parameters: {'classifier': 'GradientBoostingClassifier', 'n_estimators': 100, 'learning_rate': 0.21435728812198784, 'max_depth': 17, 'min_samples_split': 3, 'min_samples_leaf': 6}. Best is trial 1 with value: 0.8089453860640301.\n",
      "[I 2025-06-29 07:56:08,277] Trial 5 finished with value: 0.7976459510357815 and parameters: {'classifier': 'LogisticRegression', 'C': 0.715054540962526, 'solver': 'saga', 'penalty': 'l1'}. Best is trial 1 with value: 0.8089453860640301.\n",
      "[I 2025-06-29 07:56:08,485] Trial 6 finished with value: 0.6348399246704332 and parameters: {'classifier': 'GradientBoostingClassifier', 'n_estimators': 88, 'learning_rate': 0.0011771972631216395, 'max_depth': 4, 'min_samples_split': 8, 'min_samples_leaf': 5}. Best is trial 1 with value: 0.8089453860640301.\n",
      "[I 2025-06-29 07:56:09,372] Trial 7 finished with value: 0.7868173258003766 and parameters: {'classifier': 'RandomForestClassifier', 'n_estimators': 215, 'max_depth': 10, 'min_samples_split': 7, 'min_samples_leaf': 10, 'bootstrap': True}. Best is trial 1 with value: 0.8089453860640301.\n",
      "[I 2025-06-29 07:56:09,458] Trial 8 finished with value: 0.7698681732580037 and parameters: {'classifier': 'SVC', 'svc_c': 231259807.70729837, 'kernel': 'rbf', 'gamma': 'auto'}. Best is trial 1 with value: 0.8089453860640301.\n",
      "[I 2025-06-29 07:56:09,469] Trial 9 finished with value: 0.7808851224105461 and parameters: {'classifier': 'LogisticRegression', 'C': 0.5242907958688536, 'solver': 'liblinear', 'penalty': 'l2'}. Best is trial 1 with value: 0.8089453860640301.\n",
      "[I 2025-06-29 07:56:09,657] Trial 10 finished with value: 0.7922787193973635 and parameters: {'classifier': 'xgboost', 'n_estimators': 296, 'learning_rate': 0.603810528998959, 'max_depth': 20, 'min_child_weight': 3}. Best is trial 1 with value: 0.8089453860640301.\n",
      "[I 2025-06-29 07:56:10,233] Trial 11 finished with value: 0.8034839924670433 and parameters: {'classifier': 'GradientBoostingClassifier', 'n_estimators': 254, 'learning_rate': 0.010500054552609397, 'max_depth': 13, 'min_samples_split': 10, 'min_samples_leaf': 9}. Best is trial 1 with value: 0.8089453860640301.\n",
      "[I 2025-06-29 07:56:10,349] Trial 12 finished with value: 0.7810734463276837 and parameters: {'classifier': 'xgboost', 'n_estimators': 167, 'learning_rate': 0.024543593685538035, 'max_depth': 11, 'min_child_weight': 9}. Best is trial 1 with value: 0.8089453860640301.\n",
      "[I 2025-06-29 07:56:10,909] Trial 13 finished with value: 0.8035781544256121 and parameters: {'classifier': 'RandomForestClassifier', 'n_estimators': 173, 'max_depth': 6, 'min_samples_split': 4, 'min_samples_leaf': 2, 'bootstrap': False}. Best is trial 1 with value: 0.8089453860640301.\n",
      "[I 2025-06-29 07:56:11,376] Trial 14 finished with value: 0.7868173258003767 and parameters: {'classifier': 'RandomForestClassifier', 'n_estimators': 149, 'max_depth': 3, 'min_samples_split': 3, 'min_samples_leaf': 1, 'bootstrap': False}. Best is trial 1 with value: 0.8089453860640301.\n",
      "[I 2025-06-29 07:56:11,820] Trial 15 finished with value: 0.8204331450094161 and parameters: {'classifier': 'RandomForestClassifier', 'n_estimators': 133, 'max_depth': 7, 'min_samples_split': 5, 'min_samples_leaf': 1, 'bootstrap': False}. Best is trial 15 with value: 0.8204331450094161.\n",
      "[I 2025-06-29 07:56:12,034] Trial 16 finished with value: 0.786723163841808 and parameters: {'classifier': 'RandomForestClassifier', 'n_estimators': 60, 'max_depth': 8, 'min_samples_split': 5, 'min_samples_leaf': 4, 'bootstrap': False}. Best is trial 15 with value: 0.8204331450094161.\n",
      "[I 2025-06-29 07:56:12,053] Trial 17 finished with value: 0.6348399246704332 and parameters: {'classifier': 'SVC', 'svc_c': 0.00056839088186873, 'kernel': 'linear', 'gamma': 0.16666666666666666}. Best is trial 15 with value: 0.8204331450094161.\n",
      "[I 2025-06-29 07:56:12,616] Trial 18 finished with value: 0.7811676082862523 and parameters: {'classifier': 'RandomForestClassifier', 'n_estimators': 124, 'max_depth': 8, 'min_samples_split': 2, 'min_samples_leaf': 3, 'bootstrap': True}. Best is trial 15 with value: 0.8204331450094161.\n",
      "[I 2025-06-29 07:56:12,638] Trial 19 finished with value: 0.8089453860640301 and parameters: {'classifier': 'SVC', 'svc_c': 55.23215815977013, 'kernel': 'linear', 'gamma': 'scale'}. Best is trial 15 with value: 0.8204331450094161.\n",
      "[I 2025-06-29 07:56:12,646] Trial 20 pruned. \n",
      "[I 2025-06-29 07:56:12,665] Trial 21 finished with value: 0.8089453860640301 and parameters: {'classifier': 'SVC', 'svc_c': 17.060801570871128, 'kernel': 'linear', 'gamma': 'scale'}. Best is trial 15 with value: 0.8204331450094161.\n",
      "[I 2025-06-29 07:56:12,683] Trial 22 finished with value: 0.7135593220338983 and parameters: {'classifier': 'SVC', 'svc_c': 0.009432165433092278, 'kernel': 'linear', 'gamma': 'scale'}. Best is trial 15 with value: 0.8204331450094161.\n",
      "[I 2025-06-29 07:56:12,778] Trial 23 finished with value: 0.7639359698681734 and parameters: {'classifier': 'SVC', 'svc_c': 573566.539890263, 'kernel': 'poly', 'gamma': 'scale'}. Best is trial 15 with value: 0.8204331450094161.\n",
      "[I 2025-06-29 07:56:12,796] Trial 24 finished with value: 0.6348399246704332 and parameters: {'classifier': 'SVC', 'svc_c': 5.448014018888997e-06, 'kernel': 'linear', 'gamma': 0.16666666666666666}. Best is trial 15 with value: 0.8204331450094161.\n",
      "[I 2025-06-29 07:56:13,184] Trial 25 finished with value: 0.6348399246704332 and parameters: {'classifier': 'xgboost', 'n_estimators': 213, 'learning_rate': 0.001078327996488095, 'max_depth': 6, 'min_child_weight': 1}. Best is trial 15 with value: 0.8204331450094161.\n",
      "[I 2025-06-29 07:56:13,610] Trial 26 finished with value: 0.781261770244821 and parameters: {'classifier': 'RandomForestClassifier', 'n_estimators': 130, 'max_depth': 16, 'min_samples_split': 5, 'min_samples_leaf': 7, 'bootstrap': False}. Best is trial 15 with value: 0.8204331450094161.\n",
      "[I 2025-06-29 07:57:43,748] Trial 27 finished with value: 0.8089453860640301 and parameters: {'classifier': 'SVC', 'svc_c': 22723.248570672844, 'kernel': 'linear', 'gamma': 0.16666666666666666}. Best is trial 15 with value: 0.8204331450094161.\n",
      "[I 2025-06-29 07:57:43,767] Trial 28 finished with value: 0.7135593220338983 and parameters: {'classifier': 'SVC', 'svc_c': 445.65313399464634, 'kernel': 'sigmoid', 'gamma': 'scale'}. Best is trial 15 with value: 0.8204331450094161.\n",
      "[I 2025-06-29 07:57:43,785] Trial 29 finished with value: 0.6292843691148776 and parameters: {'classifier': 'SVC', 'svc_c': 0.015664193511566366, 'kernel': 'poly', 'gamma': 0.16666666666666666}. Best is trial 15 with value: 0.8204331450094161.\n",
      "[I 2025-06-29 07:57:43,985] Trial 30 finished with value: 0.8203389830508474 and parameters: {'classifier': 'RandomForestClassifier', 'n_estimators': 54, 'max_depth': 8, 'min_samples_split': 10, 'min_samples_leaf': 1, 'bootstrap': False}. Best is trial 15 with value: 0.8204331450094161.\n",
      "[I 2025-06-29 07:57:44,181] Trial 31 finished with value: 0.8146892655367232 and parameters: {'classifier': 'RandomForestClassifier', 'n_estimators': 51, 'max_depth': 9, 'min_samples_split': 10, 'min_samples_leaf': 1, 'bootstrap': False}. Best is trial 15 with value: 0.8204331450094161.\n",
      "[I 2025-06-29 07:57:44,368] Trial 32 finished with value: 0.8203389830508474 and parameters: {'classifier': 'RandomForestClassifier', 'n_estimators': 50, 'max_depth': 9, 'min_samples_split': 10, 'min_samples_leaf': 1, 'bootstrap': False}. Best is trial 15 with value: 0.8204331450094161.\n",
      "[I 2025-06-29 07:57:44,558] Trial 33 finished with value: 0.8203389830508474 and parameters: {'classifier': 'RandomForestClassifier', 'n_estimators': 50, 'max_depth': 9, 'min_samples_split': 10, 'min_samples_leaf': 1, 'bootstrap': False}. Best is trial 15 with value: 0.8204331450094161.\n",
      "[I 2025-06-29 07:57:44,833] Trial 34 finished with value: 0.8034839924670433 and parameters: {'classifier': 'RandomForestClassifier', 'n_estimators': 79, 'max_depth': 6, 'min_samples_split': 9, 'min_samples_leaf': 1, 'bootstrap': False}. Best is trial 15 with value: 0.8204331450094161.\n",
      "[I 2025-06-29 07:57:45,026] Trial 35 finished with value: 0.8035781544256121 and parameters: {'classifier': 'RandomForestClassifier', 'n_estimators': 51, 'max_depth': 8, 'min_samples_split': 10, 'min_samples_leaf': 2, 'bootstrap': False}. Best is trial 15 with value: 0.8204331450094161.\n",
      "[I 2025-06-29 07:57:45,309] Trial 36 finished with value: 0.8035781544256121 and parameters: {'classifier': 'RandomForestClassifier', 'n_estimators': 81, 'max_depth': 11, 'min_samples_split': 9, 'min_samples_leaf': 2, 'bootstrap': False}. Best is trial 15 with value: 0.8204331450094161.\n",
      "[I 2025-06-29 07:57:45,663] Trial 37 finished with value: 0.8146892655367232 and parameters: {'classifier': 'RandomForestClassifier', 'n_estimators': 106, 'max_depth': 7, 'min_samples_split': 9, 'min_samples_leaf': 3, 'bootstrap': False}. Best is trial 15 with value: 0.8204331450094161.\n",
      "[I 2025-06-29 07:57:45,915] Trial 38 finished with value: 0.8204331450094161 and parameters: {'classifier': 'RandomForestClassifier', 'n_estimators': 70, 'max_depth': 10, 'min_samples_split': 6, 'min_samples_leaf': 1, 'bootstrap': False}. Best is trial 15 with value: 0.8204331450094161.\n",
      "[I 2025-06-29 07:57:46,174] Trial 39 finished with value: 0.8258945386064029 and parameters: {'classifier': 'RandomForestClassifier', 'n_estimators': 73, 'max_depth': 12, 'min_samples_split': 6, 'min_samples_leaf': 3, 'bootstrap': False}. Best is trial 39 with value: 0.8258945386064029.\n",
      "[I 2025-06-29 07:57:46,565] Trial 40 finished with value: 0.8258945386064029 and parameters: {'classifier': 'RandomForestClassifier', 'n_estimators': 117, 'max_depth': 11, 'min_samples_split': 6, 'min_samples_leaf': 3, 'bootstrap': False}. Best is trial 39 with value: 0.8258945386064029.\n",
      "[I 2025-06-29 07:57:46,977] Trial 41 finished with value: 0.8258945386064029 and parameters: {'classifier': 'RandomForestClassifier', 'n_estimators': 124, 'max_depth': 13, 'min_samples_split': 6, 'min_samples_leaf': 3, 'bootstrap': False}. Best is trial 39 with value: 0.8258945386064029.\n",
      "[I 2025-06-29 07:57:47,385] Trial 42 finished with value: 0.8258945386064029 and parameters: {'classifier': 'RandomForestClassifier', 'n_estimators': 123, 'max_depth': 13, 'min_samples_split': 6, 'min_samples_leaf': 3, 'bootstrap': False}. Best is trial 39 with value: 0.8258945386064029.\n",
      "[I 2025-06-29 07:57:47,826] Trial 43 finished with value: 0.7922787193973635 and parameters: {'classifier': 'GradientBoostingClassifier', 'n_estimators': 126, 'learning_rate': 0.11908212859479433, 'max_depth': 13, 'min_samples_split': 6, 'min_samples_leaf': 4}. Best is trial 39 with value: 0.8258945386064029.\n",
      "[I 2025-06-29 07:57:48,292] Trial 44 finished with value: 0.8258945386064029 and parameters: {'classifier': 'RandomForestClassifier', 'n_estimators': 141, 'max_depth': 14, 'min_samples_split': 5, 'min_samples_leaf': 3, 'bootstrap': False}. Best is trial 39 with value: 0.8258945386064029.\n",
      "[I 2025-06-29 07:57:48,311] Trial 45 finished with value: 0.7865348399246704 and parameters: {'classifier': 'LogisticRegression', 'C': 0.9420893797595387, 'solver': 'sag', 'penalty': 'l2'}. Best is trial 39 with value: 0.8258945386064029.\n",
      "[I 2025-06-29 07:57:48,978] Trial 46 finished with value: 0.7811676082862523 and parameters: {'classifier': 'RandomForestClassifier', 'n_estimators': 151, 'max_depth': 15, 'min_samples_split': 7, 'min_samples_leaf': 3, 'bootstrap': True}. Best is trial 39 with value: 0.8258945386064029.\n",
      "[I 2025-06-29 07:57:49,348] Trial 47 finished with value: 0.8090395480225988 and parameters: {'classifier': 'RandomForestClassifier', 'n_estimators': 111, 'max_depth': 13, 'min_samples_split': 6, 'min_samples_leaf': 4, 'bootstrap': False}. Best is trial 39 with value: 0.8258945386064029.\n",
      "[I 2025-06-29 07:57:49,464] Trial 48 finished with value: 0.6348399246704332 and parameters: {'classifier': 'xgboost', 'n_estimators': 148, 'learning_rate': 0.005750929367125318, 'max_depth': 14, 'min_child_weight': 10}. Best is trial 39 with value: 0.8258945386064029.\n",
      "[I 2025-06-29 07:57:49,715] Trial 49 finished with value: 0.7919962335216573 and parameters: {'classifier': 'GradientBoostingClassifier', 'n_estimators': 102, 'learning_rate': 0.8036851365611788, 'max_depth': 12, 'min_samples_split': 5, 'min_samples_leaf': 3}. Best is trial 39 with value: 0.8258945386064029.\n",
      "[I 2025-06-29 07:57:50,322] Trial 50 finished with value: 0.7867231638418078 and parameters: {'classifier': 'RandomForestClassifier', 'n_estimators': 190, 'max_depth': 15, 'min_samples_split': 6, 'min_samples_leaf': 5, 'bootstrap': False}. Best is trial 39 with value: 0.8258945386064029.\n",
      "[I 2025-06-29 07:57:50,765] Trial 51 finished with value: 0.8258945386064029 and parameters: {'classifier': 'RandomForestClassifier', 'n_estimators': 135, 'max_depth': 12, 'min_samples_split': 5, 'min_samples_leaf': 3, 'bootstrap': False}. Best is trial 39 with value: 0.8258945386064029.\n",
      "[I 2025-06-29 07:57:51,164] Trial 52 finished with value: 0.8258945386064029 and parameters: {'classifier': 'RandomForestClassifier', 'n_estimators': 118, 'max_depth': 12, 'min_samples_split': 4, 'min_samples_leaf': 3, 'bootstrap': False}. Best is trial 39 with value: 0.8258945386064029.\n",
      "[I 2025-06-29 07:57:51,483] Trial 53 finished with value: 0.8033898305084746 and parameters: {'classifier': 'RandomForestClassifier', 'n_estimators': 93, 'max_depth': 14, 'min_samples_split': 7, 'min_samples_leaf': 4, 'bootstrap': False}. Best is trial 39 with value: 0.8258945386064029.\n",
      "[I 2025-06-29 07:57:51,940] Trial 54 finished with value: 0.8146892655367232 and parameters: {'classifier': 'RandomForestClassifier', 'n_estimators': 137, 'max_depth': 18, 'min_samples_split': 5, 'min_samples_leaf': 2, 'bootstrap': False}. Best is trial 39 with value: 0.8258945386064029.\n",
      "[I 2025-06-29 07:57:52,462] Trial 55 finished with value: 0.8146892655367232 and parameters: {'classifier': 'RandomForestClassifier', 'n_estimators': 159, 'max_depth': 12, 'min_samples_split': 6, 'min_samples_leaf': 3, 'bootstrap': False}. Best is trial 39 with value: 0.8258945386064029.\n",
      "[I 2025-06-29 07:57:52,471] Trial 56 pruned. \n",
      "[I 2025-06-29 07:57:53,066] Trial 57 finished with value: 0.7922787193973635 and parameters: {'classifier': 'RandomForestClassifier', 'n_estimators': 187, 'max_depth': 11, 'min_samples_split': 4, 'min_samples_leaf': 5, 'bootstrap': False}. Best is trial 39 with value: 0.8258945386064029.\n",
      "[I 2025-06-29 07:57:53,530] Trial 58 finished with value: 0.7867231638418078 and parameters: {'classifier': 'RandomForestClassifier', 'n_estimators': 140, 'max_depth': 13, 'min_samples_split': 7, 'min_samples_leaf': 4, 'bootstrap': False}. Best is trial 39 with value: 0.8258945386064029.\n",
      "[I 2025-06-29 07:57:53,632] Trial 59 finished with value: 0.7754237288135593 and parameters: {'classifier': 'xgboost', 'n_estimators': 113, 'learning_rate': 0.13492890536648233, 'max_depth': 15, 'min_child_weight': 6}. Best is trial 39 with value: 0.8258945386064029.\n",
      "[I 2025-06-29 07:57:54,040] Trial 60 finished with value: 0.7979284369114877 and parameters: {'classifier': 'RandomForestClassifier', 'n_estimators': 92, 'max_depth': 10, 'min_samples_split': 6, 'min_samples_leaf': 2, 'bootstrap': True}. Best is trial 39 with value: 0.8258945386064029.\n",
      "[I 2025-06-29 07:57:54,425] Trial 61 finished with value: 0.8258945386064029 and parameters: {'classifier': 'RandomForestClassifier', 'n_estimators': 114, 'max_depth': 12, 'min_samples_split': 4, 'min_samples_leaf': 3, 'bootstrap': False}. Best is trial 39 with value: 0.8258945386064029.\n",
      "[I 2025-06-29 07:57:54,960] Trial 62 finished with value: 0.8258945386064029 and parameters: {'classifier': 'RandomForestClassifier', 'n_estimators': 166, 'max_depth': 14, 'min_samples_split': 4, 'min_samples_leaf': 3, 'bootstrap': False}. Best is trial 39 with value: 0.8258945386064029.\n",
      "[I 2025-06-29 07:57:55,360] Trial 63 finished with value: 0.8033898305084746 and parameters: {'classifier': 'RandomForestClassifier', 'n_estimators': 120, 'max_depth': 12, 'min_samples_split': 5, 'min_samples_leaf': 4, 'bootstrap': False}. Best is trial 39 with value: 0.8258945386064029.\n",
      "[I 2025-06-29 07:57:55,813] Trial 64 finished with value: 0.8035781544256121 and parameters: {'classifier': 'RandomForestClassifier', 'n_estimators': 136, 'max_depth': 11, 'min_samples_split': 7, 'min_samples_leaf': 2, 'bootstrap': False}. Best is trial 39 with value: 0.8258945386064029.\n",
      "[I 2025-06-29 07:57:56,152] Trial 65 finished with value: 0.7868173258003767 and parameters: {'classifier': 'GradientBoostingClassifier', 'n_estimators': 99, 'learning_rate': 0.0032130063658427385, 'max_depth': 13, 'min_samples_split': 5, 'min_samples_leaf': 3}. Best is trial 39 with value: 0.8258945386064029.\n",
      "[I 2025-06-29 07:57:56,669] Trial 66 finished with value: 0.8145951035781543 and parameters: {'classifier': 'RandomForestClassifier', 'n_estimators': 120, 'max_depth': 14, 'min_samples_split': 4, 'min_samples_leaf': 2, 'bootstrap': True}. Best is trial 39 with value: 0.8258945386064029.\n",
      "[I 2025-06-29 07:57:57,594] Trial 67 finished with value: 0.781261770244821 and parameters: {'classifier': 'RandomForestClassifier', 'n_estimators': 299, 'max_depth': 12, 'min_samples_split': 6, 'min_samples_leaf': 7, 'bootstrap': False}. Best is trial 39 with value: 0.8258945386064029.\n",
      "[I 2025-06-29 07:57:57,611] Trial 68 finished with value: 0.7865348399246704 and parameters: {'classifier': 'LogisticRegression', 'C': 0.3522898478712478, 'solver': 'liblinear', 'penalty': 'l2'}. Best is trial 39 with value: 0.8258945386064029.\n",
      "[I 2025-06-29 07:57:58,092] Trial 69 finished with value: 0.8202448210922787 and parameters: {'classifier': 'RandomForestClassifier', 'n_estimators': 145, 'max_depth': 17, 'min_samples_split': 3, 'min_samples_leaf': 3, 'bootstrap': False}. Best is trial 39 with value: 0.8258945386064029.\n",
      "[I 2025-06-29 07:57:58,383] Trial 70 finished with value: 0.7644067796610169 and parameters: {'classifier': 'RandomForestClassifier', 'n_estimators': 82, 'max_depth': 11, 'min_samples_split': 5, 'min_samples_leaf': 5, 'bootstrap': False}. Best is trial 39 with value: 0.8258945386064029.\n",
      "[I 2025-06-29 07:57:58,785] Trial 71 finished with value: 0.8258945386064029 and parameters: {'classifier': 'RandomForestClassifier', 'n_estimators': 114, 'max_depth': 13, 'min_samples_split': 4, 'min_samples_leaf': 3, 'bootstrap': False}. Best is trial 39 with value: 0.8258945386064029.\n",
      "[I 2025-06-29 07:57:59,218] Trial 72 finished with value: 0.8033898305084746 and parameters: {'classifier': 'RandomForestClassifier', 'n_estimators': 128, 'max_depth': 10, 'min_samples_split': 4, 'min_samples_leaf': 4, 'bootstrap': False}. Best is trial 39 with value: 0.8258945386064029.\n",
      "[I 2025-06-29 07:57:59,735] Trial 73 finished with value: 0.8146892655367232 and parameters: {'classifier': 'RandomForestClassifier', 'n_estimators': 158, 'max_depth': 12, 'min_samples_split': 6, 'min_samples_leaf': 3, 'bootstrap': False}. Best is trial 39 with value: 0.8258945386064029.\n",
      "[I 2025-06-29 07:58:00,138] Trial 74 finished with value: 0.8033898305084746 and parameters: {'classifier': 'RandomForestClassifier', 'n_estimators': 120, 'max_depth': 12, 'min_samples_split': 3, 'min_samples_leaf': 4, 'bootstrap': False}. Best is trial 39 with value: 0.8258945386064029.\n",
      "[I 2025-06-29 07:58:00,395] Trial 75 finished with value: 0.8313559322033898 and parameters: {'classifier': 'RandomForestClassifier', 'n_estimators': 70, 'max_depth': 13, 'min_samples_split': 5, 'min_samples_leaf': 2, 'bootstrap': False}. Best is trial 75 with value: 0.8313559322033898.\n",
      "[I 2025-06-29 07:58:00,637] Trial 76 finished with value: 0.837005649717514 and parameters: {'classifier': 'RandomForestClassifier', 'n_estimators': 67, 'max_depth': 14, 'min_samples_split': 5, 'min_samples_leaf': 2, 'bootstrap': False}. Best is trial 76 with value: 0.837005649717514.\n",
      "[I 2025-06-29 07:58:00,899] Trial 77 finished with value: 0.8258003766478342 and parameters: {'classifier': 'RandomForestClassifier', 'n_estimators': 71, 'max_depth': 16, 'min_samples_split': 5, 'min_samples_leaf': 2, 'bootstrap': False}. Best is trial 76 with value: 0.837005649717514.\n",
      "[I 2025-06-29 07:58:00,984] Trial 78 finished with value: 0.7868173258003766 and parameters: {'classifier': 'xgboost', 'n_estimators': 63, 'learning_rate': 0.06628983977391076, 'max_depth': 15, 'min_child_weight': 6}. Best is trial 76 with value: 0.837005649717514.\n",
      "[I 2025-06-29 07:58:01,340] Trial 79 finished with value: 0.7528248587570622 and parameters: {'classifier': 'GradientBoostingClassifier', 'n_estimators': 70, 'learning_rate': 0.33060311124134756, 'max_depth': 14, 'min_samples_split': 5, 'min_samples_leaf': 2}. Best is trial 76 with value: 0.837005649717514.\n",
      "[I 2025-06-29 07:58:01,656] Trial 80 finished with value: 0.8202448210922787 and parameters: {'classifier': 'RandomForestClassifier', 'n_estimators': 86, 'max_depth': 13, 'min_samples_split': 6, 'min_samples_leaf': 2, 'bootstrap': False}. Best is trial 76 with value: 0.837005649717514.\n",
      "[I 2025-06-29 07:58:02,530] Trial 81 finished with value: 0.7868173258003766 and parameters: {'classifier': 'RandomForestClassifier', 'n_estimators': 284, 'max_depth': 13, 'min_samples_split': 5, 'min_samples_leaf': 10, 'bootstrap': False}. Best is trial 76 with value: 0.837005649717514.\n",
      "[I 2025-06-29 07:58:02,866] Trial 82 finished with value: 0.8258945386064029 and parameters: {'classifier': 'RandomForestClassifier', 'n_estimators': 97, 'max_depth': 11, 'min_samples_split': 7, 'min_samples_leaf': 3, 'bootstrap': False}. Best is trial 76 with value: 0.837005649717514.\n",
      "[I 2025-06-29 07:58:03,138] Trial 83 finished with value: 0.8258003766478342 and parameters: {'classifier': 'RandomForestClassifier', 'n_estimators': 75, 'max_depth': 14, 'min_samples_split': 6, 'min_samples_leaf': 2, 'bootstrap': False}. Best is trial 76 with value: 0.837005649717514.\n",
      "[I 2025-06-29 07:58:03,366] Trial 84 finished with value: 0.8258945386064029 and parameters: {'classifier': 'RandomForestClassifier', 'n_estimators': 61, 'max_depth': 13, 'min_samples_split': 5, 'min_samples_leaf': 3, 'bootstrap': False}. Best is trial 76 with value: 0.837005649717514.\n",
      "[I 2025-06-29 07:58:03,856] Trial 85 finished with value: 0.8145951035781543 and parameters: {'classifier': 'RandomForestClassifier', 'n_estimators': 108, 'max_depth': 16, 'min_samples_split': 2, 'min_samples_leaf': 2, 'bootstrap': True}. Best is trial 76 with value: 0.837005649717514.\n",
      "[I 2025-06-29 07:58:04,326] Trial 86 finished with value: 0.8033898305084746 and parameters: {'classifier': 'RandomForestClassifier', 'n_estimators': 129, 'max_depth': 11, 'min_samples_split': 6, 'min_samples_leaf': 4, 'bootstrap': False}. Best is trial 76 with value: 0.837005649717514.\n",
      "[I 2025-06-29 07:58:04,346] Trial 87 finished with value: 0.7919962335216573 and parameters: {'classifier': 'LogisticRegression', 'C': 0.8958379135342524, 'solver': 'saga', 'penalty': 'l1'}. Best is trial 76 with value: 0.837005649717514.\n",
      "[I 2025-06-29 07:58:04,655] Trial 88 finished with value: 0.8090395480225988 and parameters: {'classifier': 'RandomForestClassifier', 'n_estimators': 87, 'max_depth': 14, 'min_samples_split': 8, 'min_samples_leaf': 3, 'bootstrap': False}. Best is trial 76 with value: 0.837005649717514.\n",
      "[I 2025-06-29 07:58:05,135] Trial 89 finished with value: 0.8258945386064029 and parameters: {'classifier': 'RandomForestClassifier', 'n_estimators': 141, 'max_depth': 10, 'min_samples_split': 5, 'min_samples_leaf': 3, 'bootstrap': False}. Best is trial 76 with value: 0.837005649717514.\n",
      "[I 2025-06-29 07:58:05,355] Trial 90 finished with value: 0.8091337099811676 and parameters: {'classifier': 'xgboost', 'n_estimators': 105, 'learning_rate': 0.044361025413140694, 'max_depth': 12, 'min_child_weight': 3}. Best is trial 76 with value: 0.837005649717514.\n",
      "[I 2025-06-29 07:58:05,798] Trial 91 finished with value: 0.8258945386064029 and parameters: {'classifier': 'RandomForestClassifier', 'n_estimators': 132, 'max_depth': 12, 'min_samples_split': 4, 'min_samples_leaf': 3, 'bootstrap': False}. Best is trial 76 with value: 0.837005649717514.\n",
      "[I 2025-06-29 07:58:06,192] Trial 92 finished with value: 0.8258945386064029 and parameters: {'classifier': 'RandomForestClassifier', 'n_estimators': 116, 'max_depth': 13, 'min_samples_split': 4, 'min_samples_leaf': 3, 'bootstrap': False}. Best is trial 76 with value: 0.837005649717514.\n",
      "[I 2025-06-29 07:58:06,692] Trial 93 finished with value: 0.7867231638418078 and parameters: {'classifier': 'RandomForestClassifier', 'n_estimators': 153, 'max_depth': 15, 'min_samples_split': 6, 'min_samples_leaf': 4, 'bootstrap': False}. Best is trial 76 with value: 0.837005649717514.\n",
      "[I 2025-06-29 07:58:07,112] Trial 94 finished with value: 0.8258945386064029 and parameters: {'classifier': 'RandomForestClassifier', 'n_estimators': 124, 'max_depth': 12, 'min_samples_split': 3, 'min_samples_leaf': 2, 'bootstrap': False}. Best is trial 76 with value: 0.837005649717514.\n",
      "[I 2025-06-29 07:58:07,350] Trial 95 finished with value: 0.7811676082862523 and parameters: {'classifier': 'RandomForestClassifier', 'n_estimators': 66, 'max_depth': 13, 'min_samples_split': 5, 'min_samples_leaf': 9, 'bootstrap': False}. Best is trial 76 with value: 0.837005649717514.\n",
      "[I 2025-06-29 07:58:07,942] Trial 96 finished with value: 0.8149717514124294 and parameters: {'classifier': 'RandomForestClassifier', 'n_estimators': 179, 'max_depth': 11, 'min_samples_split': 4, 'min_samples_leaf': 1, 'bootstrap': False}. Best is trial 76 with value: 0.837005649717514.\n",
      "[I 2025-06-29 07:58:08,622] Trial 97 finished with value: 0.8258945386064029 and parameters: {'classifier': 'RandomForestClassifier', 'n_estimators': 208, 'max_depth': 10, 'min_samples_split': 5, 'min_samples_leaf': 3, 'bootstrap': False}. Best is trial 76 with value: 0.837005649717514.\n",
      "[I 2025-06-29 07:58:08,969] Trial 98 finished with value: 0.8033898305084746 and parameters: {'classifier': 'RandomForestClassifier', 'n_estimators': 95, 'max_depth': 14, 'min_samples_split': 7, 'min_samples_leaf': 4, 'bootstrap': False}. Best is trial 76 with value: 0.837005649717514.\n",
      "[I 2025-06-29 07:58:08,988] Trial 99 finished with value: 0.6348399246704332 and parameters: {'classifier': 'SVC', 'svc_c': 2.18205376012588e-08, 'kernel': 'poly', 'gamma': 'auto'}. Best is trial 76 with value: 0.837005649717514.\n"
     ]
    }
   ],
   "source": [
    "import optuna\n",
    "\n",
    "study = optuna.create_study(direction='maximize')\n",
    "study.optimize(objective,n_trials=100)"
   ]
  },
  {
   "cell_type": "code",
   "execution_count": null,
   "metadata": {
    "execution": {
     "iopub.execute_input": "2025-06-29T07:58:08.992729Z",
     "iopub.status.busy": "2025-06-29T07:58:08.992485Z",
     "iopub.status.idle": "2025-06-29T07:58:08.998846Z",
     "shell.execute_reply": "2025-06-29T07:58:08.997924Z",
     "shell.execute_reply.started": "2025-06-29T07:58:08.992703Z"
    },
    "trusted": true
   },
   "outputs": [
    {
     "name": "stdout",
     "output_type": "stream",
     "text": [
      "Best trial:\n",
      "  Value: 0.837005649717514\n",
      "  Params: \n",
      "    classifier: RandomForestClassifier\n",
      "    n_estimators: 67\n",
      "    max_depth: 14\n",
      "    min_samples_split: 5\n",
      "    min_samples_leaf: 2\n",
      "    bootstrap: False\n"
     ]
    }
   ],
   "source": [
    "\n",
    "best_trial = study.best_trial\n",
    "print(\"Best trial:\")\n",
    "print(f\"  Value: {best_trial.value}\")\n",
    "print(\"  Params: \")\n",
    "for key, value in best_trial.params.items():\n",
    "    print(f\"    {key}: {value}\")\n",
    "     "
   ]
  },
  {
   "cell_type": "code",
   "execution_count": null,
   "metadata": {
    "execution": {
     "iopub.execute_input": "2025-06-29T07:58:09.000131Z",
     "iopub.status.busy": "2025-06-29T07:58:08.999795Z",
     "iopub.status.idle": "2025-06-29T07:58:09.023412Z",
     "shell.execute_reply": "2025-06-29T07:58:09.022644Z",
     "shell.execute_reply.started": "2025-06-29T07:58:09.000109Z"
    },
    "trusted": true
   },
   "outputs": [
    {
     "data": {
      "text/plain": [
       "params_classifier\n",
       "RandomForestClassifier        64\n",
       "SVC                           14\n",
       "GradientBoostingClassifier     8\n",
       "LogisticRegression             7\n",
       "xgboost                        7\n",
       "Name: count, dtype: int64"
      ]
     },
     "execution_count": 75,
     "metadata": {},
     "output_type": "execute_result"
    }
   ],
   "source": [
    "study.trials_dataframe()['params_classifier'].value_counts()"
   ]
  },
  {
   "cell_type": "code",
   "execution_count": null,
   "metadata": {
    "execution": {
     "iopub.execute_input": "2025-06-29T07:59:11.494788Z",
     "iopub.status.busy": "2025-06-29T07:59:11.494427Z",
     "iopub.status.idle": "2025-06-29T07:59:11.499232Z",
     "shell.execute_reply": "2025-06-29T07:59:11.498301Z",
     "shell.execute_reply.started": "2025-06-29T07:59:11.494762Z"
    },
    "trusted": true
   },
   "outputs": [],
   "source": [
    "final_model = RandomForestClassifier(\n",
    "    n_estimators = 67,\n",
    "    max_depth = 14,\n",
    "    min_samples_split = 5,\n",
    "    min_samples_leaf = 2,\n",
    "    bootstrap= False\n",
    ")"
   ]
  },
  {
   "cell_type": "code",
   "execution_count": null,
   "metadata": {
    "execution": {
     "iopub.execute_input": "2025-06-29T07:59:13.014257Z",
     "iopub.status.busy": "2025-06-29T07:59:13.013492Z",
     "iopub.status.idle": "2025-06-29T07:59:13.132611Z",
     "shell.execute_reply": "2025-06-29T07:59:13.131777Z",
     "shell.execute_reply.started": "2025-06-29T07:59:13.014225Z"
    },
    "trusted": true
   },
   "outputs": [
    {
     "data": {
      "text/html": [
       "<style>#sk-container-id-4 {color: black;background-color: white;}#sk-container-id-4 pre{padding: 0;}#sk-container-id-4 div.sk-toggleable {background-color: white;}#sk-container-id-4 label.sk-toggleable__label {cursor: pointer;display: block;width: 100%;margin-bottom: 0;padding: 0.3em;box-sizing: border-box;text-align: center;}#sk-container-id-4 label.sk-toggleable__label-arrow:before {content: \"▸\";float: left;margin-right: 0.25em;color: #696969;}#sk-container-id-4 label.sk-toggleable__label-arrow:hover:before {color: black;}#sk-container-id-4 div.sk-estimator:hover label.sk-toggleable__label-arrow:before {color: black;}#sk-container-id-4 div.sk-toggleable__content {max-height: 0;max-width: 0;overflow: hidden;text-align: left;background-color: #f0f8ff;}#sk-container-id-4 div.sk-toggleable__content pre {margin: 0.2em;color: black;border-radius: 0.25em;background-color: #f0f8ff;}#sk-container-id-4 input.sk-toggleable__control:checked~div.sk-toggleable__content {max-height: 200px;max-width: 100%;overflow: auto;}#sk-container-id-4 input.sk-toggleable__control:checked~label.sk-toggleable__label-arrow:before {content: \"▾\";}#sk-container-id-4 div.sk-estimator input.sk-toggleable__control:checked~label.sk-toggleable__label {background-color: #d4ebff;}#sk-container-id-4 div.sk-label input.sk-toggleable__control:checked~label.sk-toggleable__label {background-color: #d4ebff;}#sk-container-id-4 input.sk-hidden--visually {border: 0;clip: rect(1px 1px 1px 1px);clip: rect(1px, 1px, 1px, 1px);height: 1px;margin: -1px;overflow: hidden;padding: 0;position: absolute;width: 1px;}#sk-container-id-4 div.sk-estimator {font-family: monospace;background-color: #f0f8ff;border: 1px dotted black;border-radius: 0.25em;box-sizing: border-box;margin-bottom: 0.5em;}#sk-container-id-4 div.sk-estimator:hover {background-color: #d4ebff;}#sk-container-id-4 div.sk-parallel-item::after {content: \"\";width: 100%;border-bottom: 1px solid gray;flex-grow: 1;}#sk-container-id-4 div.sk-label:hover label.sk-toggleable__label {background-color: #d4ebff;}#sk-container-id-4 div.sk-serial::before {content: \"\";position: absolute;border-left: 1px solid gray;box-sizing: border-box;top: 0;bottom: 0;left: 50%;z-index: 0;}#sk-container-id-4 div.sk-serial {display: flex;flex-direction: column;align-items: center;background-color: white;padding-right: 0.2em;padding-left: 0.2em;position: relative;}#sk-container-id-4 div.sk-item {position: relative;z-index: 1;}#sk-container-id-4 div.sk-parallel {display: flex;align-items: stretch;justify-content: center;background-color: white;position: relative;}#sk-container-id-4 div.sk-item::before, #sk-container-id-4 div.sk-parallel-item::before {content: \"\";position: absolute;border-left: 1px solid gray;box-sizing: border-box;top: 0;bottom: 0;left: 50%;z-index: -1;}#sk-container-id-4 div.sk-parallel-item {display: flex;flex-direction: column;z-index: 1;position: relative;background-color: white;}#sk-container-id-4 div.sk-parallel-item:first-child::after {align-self: flex-end;width: 50%;}#sk-container-id-4 div.sk-parallel-item:last-child::after {align-self: flex-start;width: 50%;}#sk-container-id-4 div.sk-parallel-item:only-child::after {width: 0;}#sk-container-id-4 div.sk-dashed-wrapped {border: 1px dashed gray;margin: 0 0.4em 0.5em 0.4em;box-sizing: border-box;padding-bottom: 0.4em;background-color: white;}#sk-container-id-4 div.sk-label label {font-family: monospace;font-weight: bold;display: inline-block;line-height: 1.2em;}#sk-container-id-4 div.sk-label-container {text-align: center;}#sk-container-id-4 div.sk-container {/* jupyter's `normalize.less` sets `[hidden] { display: none; }` but bootstrap.min.css set `[hidden] { display: none !important; }` so we also need the `!important` here to be able to override the default hidden behavior on the sphinx rendered scikit-learn.org. See: https://github.com/scikit-learn/scikit-learn/issues/21755 */display: inline-block !important;position: relative;}#sk-container-id-4 div.sk-text-repr-fallback {display: none;}</style><div id=\"sk-container-id-4\" class=\"sk-top-container\"><div class=\"sk-text-repr-fallback\"><pre>RandomForestClassifier(bootstrap=False, max_depth=14, min_samples_leaf=2,\n",
       "                       min_samples_split=5, n_estimators=67)</pre><b>In a Jupyter environment, please rerun this cell to show the HTML representation or trust the notebook. <br />On GitHub, the HTML representation is unable to render, please try loading this page with nbviewer.org.</b></div><div class=\"sk-container\" hidden><div class=\"sk-item\"><div class=\"sk-estimator sk-toggleable\"><input class=\"sk-toggleable__control sk-hidden--visually\" id=\"sk-estimator-id-4\" type=\"checkbox\" checked><label for=\"sk-estimator-id-4\" class=\"sk-toggleable__label sk-toggleable__label-arrow\">RandomForestClassifier</label><div class=\"sk-toggleable__content\"><pre>RandomForestClassifier(bootstrap=False, max_depth=14, min_samples_leaf=2,\n",
       "                       min_samples_split=5, n_estimators=67)</pre></div></div></div></div></div>"
      ],
      "text/plain": [
       "RandomForestClassifier(bootstrap=False, max_depth=14, min_samples_leaf=2,\n",
       "                       min_samples_split=5, n_estimators=67)"
      ]
     },
     "execution_count": 83,
     "metadata": {},
     "output_type": "execute_result"
    }
   ],
   "source": [
    "final_model.fit(X,y)"
   ]
  },
  {
   "cell_type": "code",
   "execution_count": null,
   "metadata": {
    "execution": {
     "iopub.execute_input": "2025-06-29T07:59:14.734103Z",
     "iopub.status.busy": "2025-06-29T07:59:14.733782Z",
     "iopub.status.idle": "2025-06-29T07:59:14.740048Z",
     "shell.execute_reply": "2025-06-29T07:59:14.739054Z",
     "shell.execute_reply.started": "2025-06-29T07:59:14.734081Z"
    },
    "trusted": true
   },
   "outputs": [
    {
     "data": {
      "text/plain": [
       "0"
      ]
     },
     "execution_count": 84,
     "metadata": {},
     "output_type": "execute_result"
    }
   ],
   "source": [
    "np.isnan(df_test).sum()"
   ]
  },
  {
   "cell_type": "code",
   "execution_count": null,
   "metadata": {
    "execution": {
     "iopub.execute_input": "2025-06-29T07:59:15.623847Z",
     "iopub.status.busy": "2025-06-29T07:59:15.623514Z",
     "iopub.status.idle": "2025-06-29T07:59:15.639566Z",
     "shell.execute_reply": "2025-06-29T07:59:15.638643Z",
     "shell.execute_reply.started": "2025-06-29T07:59:15.623822Z"
    },
    "trusted": true
   },
   "outputs": [
    {
     "data": {
      "text/plain": [
       "array([0, 0, 0, 0, 1, 0, 0, 0, 1, 0, 0, 0, 1, 0, 1, 1, 0, 0, 1, 0, 0, 0,\n",
       "       1, 0, 1, 0, 1, 0, 0, 1, 0, 0, 0, 0, 0, 0, 1, 0, 0, 0, 0, 0, 0, 1,\n",
       "       1, 0, 0, 0, 1, 1, 1, 0, 1, 1, 0, 0, 0, 0, 0, 1, 0, 0, 0, 0, 1, 1,\n",
       "       0, 0, 0, 1, 0, 0, 0, 0, 1, 0, 0, 1, 0, 0, 1, 0, 0, 0, 0, 0, 0, 1,\n",
       "       0, 1, 1, 0, 1, 0, 0, 0, 1, 0, 1, 0, 1, 0, 0, 0, 1, 0, 0, 0, 0, 0,\n",
       "       0, 0, 1, 0, 1, 1, 0, 1, 1, 1, 1, 0, 1, 0, 0, 0, 0, 1, 0, 0, 0, 0,\n",
       "       1, 0, 0, 0, 0, 0, 1, 0, 0, 1, 0, 0, 0, 0, 0, 0, 0, 0, 1, 0, 0, 1,\n",
       "       0, 0, 1, 1, 0, 1, 0, 1, 1, 1, 0, 0, 1, 0, 1, 0, 0, 0, 0, 0, 0, 1,\n",
       "       1, 0, 1, 1, 0, 1, 1, 0, 1, 0, 1, 0, 0, 0, 0, 0, 1, 0, 1, 0, 1, 1,\n",
       "       0, 1, 0, 1, 0, 1, 0, 0, 0, 0, 1, 0, 0, 1, 0, 1, 0, 0, 0, 0, 1, 0,\n",
       "       1, 0, 1, 0, 1, 0, 0, 0, 0, 0, 0, 1, 0, 0, 1, 0, 0, 0, 1, 1, 1, 1,\n",
       "       0, 0, 0, 0, 1, 0, 1, 0, 1, 0, 0, 0, 0, 0, 0, 0, 1, 0, 0, 0, 1, 1,\n",
       "       0, 0, 0, 0, 1, 0, 0, 0, 1, 0, 0, 1, 0, 0, 0, 0, 0, 1, 0, 1, 1, 0,\n",
       "       1, 0, 0, 0, 1, 0, 0, 0, 0, 0, 1, 0, 0, 0, 0, 0, 0, 0, 0, 1, 0, 0,\n",
       "       0, 0, 0, 0, 0, 0, 1, 1, 0, 0, 0, 0, 0, 0, 0, 0, 1, 0, 1, 0, 0, 0,\n",
       "       1, 0, 0, 0, 0, 0, 0, 0, 0, 0, 0, 0, 0, 1, 0, 1, 0, 0, 0, 1, 1, 0,\n",
       "       0, 0, 1, 0, 1, 0, 0, 1, 0, 1, 1, 0, 1, 0, 0, 0, 1, 0, 0, 1, 0, 0,\n",
       "       1, 1, 0, 0, 0, 0, 0, 0, 1, 0, 0, 1, 0, 0, 0, 0, 0, 1, 0, 0, 0, 1,\n",
       "       0, 1, 0, 0, 1, 0, 1, 0, 0, 0, 0, 0, 0, 1, 0, 1, 0, 0, 1, 0, 0, 0])"
      ]
     },
     "execution_count": 85,
     "metadata": {},
     "output_type": "execute_result"
    }
   ],
   "source": [
    "final_model.predict(df_test)"
   ]
  },
  {
   "cell_type": "code",
   "execution_count": null,
   "metadata": {
    "execution": {
     "iopub.execute_input": "2025-06-29T07:59:17.558840Z",
     "iopub.status.busy": "2025-06-29T07:59:17.558491Z",
     "iopub.status.idle": "2025-06-29T07:59:17.571882Z",
     "shell.execute_reply": "2025-06-29T07:59:17.570996Z",
     "shell.execute_reply.started": "2025-06-29T07:59:17.558816Z"
    },
    "trusted": true
   },
   "outputs": [],
   "source": [
    "final_df['Survived'] = final_model.predict(df_test)"
   ]
  },
  {
   "cell_type": "code",
   "execution_count": null,
   "metadata": {
    "execution": {
     "iopub.execute_input": "2025-06-29T08:04:45.348871Z",
     "iopub.status.busy": "2025-06-29T08:04:45.348546Z",
     "iopub.status.idle": "2025-06-29T08:04:45.354929Z",
     "shell.execute_reply": "2025-06-29T08:04:45.354015Z",
     "shell.execute_reply.started": "2025-06-29T08:04:45.348846Z"
    },
    "trusted": true
   },
   "outputs": [],
   "source": [
    "final_df.to_csv('Submission.csv',index=False)"
   ]
  },
  {
   "cell_type": "code",
   "execution_count": null,
   "metadata": {
    "trusted": true
   },
   "outputs": [],
   "source": []
  }
 ],
 "metadata": {
  "kaggle": {
   "accelerator": "none",
   "dataSources": [
    {
     "databundleVersionId": 26502,
     "sourceId": 3136,
     "sourceType": "competition"
    }
   ],
   "dockerImageVersionId": 31040,
   "isGpuEnabled": false,
   "isInternetEnabled": true,
   "language": "python",
   "sourceType": "notebook"
  },
  "kernelspec": {
   "display_name": "Python 3",
   "language": "python",
   "name": "python3"
  },
  "language_info": {
   "codemirror_mode": {
    "name": "ipython",
    "version": 3
   },
   "file_extension": ".py",
   "mimetype": "text/x-python",
   "name": "python",
   "nbconvert_exporter": "python",
   "pygments_lexer": "ipython3",
   "version": "3.11.11"
  }
 },
 "nbformat": 4,
 "nbformat_minor": 4
}
